{
 "cells": [
  {
   "cell_type": "raw",
   "source": [],
   "metadata": {
    "collapsed": false,
    "pycharm": {
     "name": ""
    }
   }
  },
  {
   "cell_type": "markdown",
   "source": [
    "Hello, it is sad that Dmitriy Ursov покинул пост of administrator od DSBA. This project is dedicated to him. We love Dmitriy Ursov ♡\n",
    "Let's Start with a project.\n",
    "Firstly, we need to import libraries, that are necessary for this project."
   ],
   "metadata": {
    "collapsed": false
   }
  },
  {
   "cell_type": "code",
   "execution_count": null,
   "outputs": [],
   "source": [
    "import pandas as pd\n",
    "import plotly.express as px\n",
    "import streamlit as st\n",
    "import plotly.graph_objects as go"
   ],
   "metadata": {
    "collapsed": false
   }
  },
  {
   "cell_type": "markdown",
   "source": [
    "Then I create functions for drawing different plots"
   ],
   "metadata": {
    "collapsed": false
   }
  },
  {
   "cell_type": "code",
   "execution_count": null,
   "outputs": [],
   "source": [
    "def showbar(dataframe, reasonwhy, color):\n",
    "    years = []\n",
    "    deathsforreasons = []\n",
    "    for i in range(1990, 2020):\n",
    "        deathsforreasons.append(dataframe[dataframe['Year'] == i][reasonwhy].sum())\n",
    "        years.append(i)\n",
    "    fig = px.bar(dataframe[reasonwhy], years, deathsforreasons, labels={'x':'Year', 'y':'Deaths'}, color_discrete_sequence = [color]*len(dataframe))\n",
    "    fig.show()\n",
    "def showpie(df, when):\n",
    "    names = []\n",
    "    values = []\n",
    "    for i in list(df)[3:-1]:\n",
    "        names.append(i)\n",
    "        values.append(df[df['Year'] == when][i].sum())\n",
    "    fig = px.pie(df, values=values, names= names, labels={'names':'Reason', 'values':'Deaths'})\n",
    "    fig.show()\n",
    "def drawplot(df, reason, color):\n",
    "    fig = go.Figure()\n",
    "    years = []\n",
    "    deathsforreasons = []\n",
    "    for o in range(1990, 2020):\n",
    "        deathsforreasons.append(df[df['Year'] == o][reason].sum())\n",
    "        years.append(o)\n",
    "    fig = fig.add_trace(go.Scatter(x = years,\n",
    "                                    y = deathsforreasons,\n",
    "                                    line=dict(color=color, width=4)))\n",
    "    fig.show()\n"
   ],
   "metadata": {
    "collapsed": false
   }
  },
  {
   "cell_type": "markdown",
   "source": [
    "Then we upload the data sets, create the data frames out of them and clean them up.\n",
    "My datasets contain some undefined ячейки, so I've deleted them, as well as the information about 'World','World Bank Upper Middle Income' and 'World Bank Lower Middle Income'.\n",
    "Moreover, I add a column 'total_deaths', that represents a total death count for each country every year from 1990n to 2019.\n",
    "I have repeated this process thrice, as it didn't work as planned when I tried to make this process a function."
   ],
   "metadata": {
    "collapsed": false
   }
  },
  {
   "cell_type": "code",
   "execution_count": null,
   "outputs": [],
   "source": [
    "dfold = pd.read_csv('DataFiles/age-between-15-and-49.csv')\n",
    "dfold = dfold.dropna()\n",
    "dfold['Year'].astype('object')\n",
    "dfold['total_deaths'] = dfold.sum(axis=1, numeric_only=True)\n",
    "dfold = dfold.sort_values(by='total_deaths', ascending=False)\n",
    "dfold = dfold[dfold['Country'].str.contains('World') == False]\n",
    "dfold = dfold[dfold['Country'].str.contains('World Bank Upper Middle Income') == False]\n",
    "dfold = dfold[dfold['Country'].str.contains('World Bank Lower Middle Income') == False]\n",
    "\n",
    "\n",
    "dfyoung = pd.read_csv('DataFiles/age-between-5-and-14.csv')\n",
    "dfyoung = dfyoung.dropna()\n",
    "dfyoung['Year'].astype('object')\n",
    "dfyoung['total_deaths'] = dfyoung.sum(axis=1, numeric_only=True)\n",
    "dfyoung = dfyoung.sort_values(by='total_deaths', ascending=False)\n",
    "dfyoung = dfyoung[dfyoung['Country'].str.contains('World') == False]\n",
    "dfyoung = dfyoung[dfyoung['Country'].str.contains('World Bank Upper Middle Income') == False]\n",
    "dfyoung = dfyoung[dfyoung['Country'].str.contains('World Bank Lower Middle Income') == False]\n",
    "\n",
    "dftodlers = pd.read_csv('DataFiles/under-age-5.csv')\n",
    "dftodlers = dftodlers.dropna()\n",
    "dftodlers['Year'].astype('object')\n",
    "dftodlers['total_deaths'] = dftodlers.sum(axis=1, numeric_only=True)\n",
    "dftodlers = dftodlers.sort_values(by='total_deaths', ascending=False)\n",
    "dftodlers = dftodlers[dftodlers['Country'].str.contains('World') == False]\n",
    "dftodlers = dftodlers[dftodlers['Country'].str.contains('World Bank Upper Middle Income') == False]\n",
    "dftodlers = dftodlers[dftodlers['Country'].str.contains('World Bank Lower Middle Income') == False]\n",
    "\n",
    "dfveryold = pd.read_csv('DataFiles/age-between-50-and-69.csv')\n",
    "dfveryold = dfveryold.dropna()\n",
    "dfveryold['Year'].astype('object')\n",
    "dfveryold['total_deaths'] = dfveryold.sum(axis=1, numeric_only=True)\n",
    "dfveryold = dfveryold.sort_values(by='total_deaths', ascending=False)\n",
    "dfveryold = dfveryold[dfveryold['Country'].str.contains('World') == False]\n",
    "dfveryold = dfveryold[dfveryold['Country'].str.contains('World Bank Upper Middle Income') == False]\n",
    "dfveryold = dfveryold[dfveryold['Country'].str.contains('World Bank Lower Middle Income') == False]\n"
   ],
   "metadata": {
    "collapsed": false
   }
  },
  {
   "cell_type": "markdown",
   "source": [
    "Then in main.py I draw a bar chart for each reason of death, each bar represents a number of deaths from selected reason for each age group.(example below is for people aged under 5 years old)"
   ],
   "metadata": {
    "collapsed": false
   }
  },
  {
   "cell_type": "code",
   "execution_count": null,
   "outputs": [],
   "source": [
    "for reasonwhy in list(dftodlers)[3:]:\n",
    "    showbar(dftodlers, reasonwhy, '#0099C6')"
   ],
   "metadata": {
    "collapsed": false
   }
  },
  {
   "cell_type": "markdown",
   "source": [
    "Also, I draw a pie chart for each year, defining the percentage of deaths due to different reasons of each age group.(example below is for people aged under 5 years old)"
   ],
   "metadata": {
    "collapsed": false
   }
  },
  {
   "cell_type": "code",
   "execution_count": null,
   "outputs": [],
   "source": [
    "for when in sorted(list(dftodlers['Year'].unique())):\n",
    "    showpie(dftodlers, when)"
   ],
   "metadata": {
    "collapsed": false
   }
  },
  {
   "cell_type": "markdown",
   "source": [
    "What is more, some basic statistics for each data frame as medians, maximum and minimum is represented in main.py(example below is for people aged under 5 years old)"
   ],
   "metadata": {
    "collapsed": false
   }
  },
  {
   "cell_type": "code",
   "execution_count": null,
   "outputs": [],
   "source": [
    "print(dftodlers.describe())"
   ],
   "metadata": {
    "collapsed": false
   }
  },
  {
   "cell_type": "markdown",
   "source": [
    "Moving on to analysing the data presented, In the 2000s, there was a fatal AIDS epidemic, so I assume that there will be a rise in graphs of deaths due to  HIV/AIDS of people aged 5 to 14 and 15 to 49."
   ],
   "metadata": {
    "collapsed": false
   }
  },
  {
   "cell_type": "code",
   "execution_count": null,
   "outputs": [],
   "source": [
    "reasonwhy1 = 'HIV/AIDS'\n",
    "showbar(dfold, reasonwhy1, '#00CC96')\n",
    "showbar(dfyoung, reasonwhy1, '#00CC96')"
   ],
   "metadata": {
    "collapsed": false
   }
  },
  {
   "cell_type": "markdown",
   "source": [
    "Number of deaths on both graphs rise gradually until they reach their peak at 2005 for 15-49 age group and at 2004 for 5-14 age group.\n",
    "So my theory is proved."
   ],
   "metadata": {
    "collapsed": false
   }
  },
  {
   "cell_type": "markdown",
   "source": [
    "There also can be seen a significant change in self-harm deaths of both 15-49 and 5-14 age groups\n",
    "It can be possibly explained by the fact that the psychological aid has become more widespread, so fewer persons commit suicide, because they seek help sooner."
   ],
   "metadata": {
    "collapsed": false
   }
  },
  {
   "cell_type": "code",
   "execution_count": null,
   "outputs": [],
   "source": [
    "drawplot(dfyoung, 'Self-harm', 'pink')\n",
    "drawplot(dfold, 'Self-harm', 'royalblue')"
   ],
   "metadata": {
    "collapsed": false
   }
  },
  {
   "cell_type": "markdown",
   "source": [],
   "metadata": {
    "collapsed": false
   }
  }
 ],
 "metadata": {
  "kernelspec": {
   "display_name": "Python 3",
   "language": "python",
   "name": "python3"
  },
  "language_info": {
   "codemirror_mode": {
    "name": "ipython",
    "version": 2
   },
   "file_extension": ".py",
   "mimetype": "text/x-python",
   "name": "python",
   "nbconvert_exporter": "python",
   "pygments_lexer": "ipython2",
   "version": "2.7.6"
  }
 },
 "nbformat": 4,
 "nbformat_minor": 0
}
